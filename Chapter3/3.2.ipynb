{
 "cells": [
  {
   "cell_type": "code",
   "execution_count": 6,
   "metadata": {},
   "outputs": [],
   "source": [
    "from modelscope.msdatasets import MsDataset\n",
    "from modelscope.utils.constant import DownloadMode"
   ]
  },
  {
   "cell_type": "code",
   "execution_count": 7,
   "metadata": {},
   "outputs": [
    {
     "name": "stderr",
     "output_type": "stream",
     "text": [
      "2024-08-11 16:03:34,943 - modelscope - WARNING - Reusing dataset dataset_builder (/root/.cache/modelscope/hub/datasets/tany0699/cats_and_dogs/master/data_files)\n",
      "2024-08-11 16:03:34,943 - modelscope - INFO - Generating dataset dataset_builder (/root/.cache/modelscope/hub/datasets/tany0699/cats_and_dogs/master/data_files)\n",
      "2024-08-11 16:03:34,944 - modelscope - INFO - Loading meta-data file ...\n",
      "276it [00:00, 1529.77it/s]\n"
     ]
    },
    {
     "name": "stdout",
     "output_type": "stream",
     "text": [
      "100% {'image:FILE': '/root/.cache/modelscope/hub/datasets/tany0699/cats_and_dogs/master/data_files/extracted/bc5712030f447cf9f432ea41ef6ea0ae14bb12e6fa549d38d259a7bc130d65ba/train/cat/Sphynx_159_jpg.rf.022528b23ac690c34ad5d109c1782079.jpg', 'category': 0}\n"
     ]
    }
   ],
   "source": [
    "ms_train_dataset = MsDataset.load(\n",
    "    'cats_and_dogs', namespace='tany0699',\n",
    "    subset_name='default', split='train'\n",
    ")\n",
    "print(next(iter(ms_train_dataset)))"
   ]
  },
  {
   "cell_type": "code",
   "execution_count": null,
   "metadata": {},
   "outputs": [],
   "source": [
    "ms_val_dataset = MsDataset.load(\n",
    "    'cats_and_dogs', namespace='tany0699',\n",
    "    subset_name='default', split='validation'\n",
    ")\n",
    "print(next(iter(ms_val_dataset)))"
   ]
  }
 ],
 "metadata": {
  "kernelspec": {
   "display_name": "py311",
   "language": "python",
   "name": "python3"
  },
  "language_info": {
   "codemirror_mode": {
    "name": "ipython",
    "version": 3
   },
   "file_extension": ".py",
   "mimetype": "text/x-python",
   "name": "python",
   "nbconvert_exporter": "python",
   "pygments_lexer": "ipython3",
   "version": "3.11.0"
  }
 },
 "nbformat": 4,
 "nbformat_minor": 2
}
